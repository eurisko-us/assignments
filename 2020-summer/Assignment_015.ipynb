{
  "nbformat": 4,
  "nbformat_minor": 0,
  "metadata": {
    "colab": {
      "name": "Assignment_015.ipynb",
      "provenance": [],
      "collapsed_sections": []
    },
    "kernelspec": {
      "name": "python3",
      "display_name": "Python 3"
    }
  },
  "cells": [
    {
      "cell_type": "markdown",
      "metadata": {
        "id": "z6bcofPRGORe",
        "colab_type": "text"
      },
      "source": [
        "# Problem 1 (DS/Algo; 60 min)\n",
        "\n",
        "Rename your `BinaryTree` class to `Tree` and remove the `append` method and the `get_next_node_across_layer` method. Now that we've implemented `children` as a list, we're going to stop working under the binary assumption.\n",
        "\n",
        "a) Ensure that your method `build_from_edges` works in general -- not just for binary trees.\n",
        "\n",
        " * You should write a `while` loop that loops through the tree layers until finished.\n",
        "   * The first layer is the root; get the values of its child nodes from `edges` and then set the root's children accordingly.\n",
        "   * The second layer is the root's children; get the values of *their* child nodes from `edges` and then set the children *of the root's children* accordingly.\n",
        "   * The third layer is the children of the root's children; get the values of *their* child nodes from `edges` and then set the children of the third layer accordingly.\n",
        "   * And so on...\n",
        "\n",
        "b) Create a method `print_depth_first(node=self.root)` that prints the values of the nodes of the tree, proceeding in the \"depth-first\" order.\n",
        "\n",
        "* **The method should be a very slick recursion:** *it should print the input node's value, and then call itself on each of the node's children.*\n",
        "\n",
        "```\n",
        ">>> tree = Tree()\n",
        ">>> edges = [('a','c'), ('e','g'), ('e','i'), ('e','a'), ('d','b'), ('a','d'), ('d','f'), ('f','h'), ('d','j'), ('d','k')]\n",
        ">>> tree.build_from_edges(edges)\n",
        "\n",
        "The tree's internal state should look as follows:\n",
        "    e\n",
        "   /|\\\n",
        "  a i g\n",
        " /|\n",
        "c d \n",
        " /|\\\\\n",
        "b j fk\n",
        "    |\n",
        "    h\n",
        "\n",
        ">>> tree_A.print_depth_first()\n",
        "e a c d b j f h k i g\n",
        "\n",
        "Other answers are permissible, as long as they \n",
        "follow a depth-first ordering, e.g.\n",
        "e i g a d f h b j k c\n",
        "```"
      ]
    },
    {
      "cell_type": "code",
      "metadata": {
        "id": "HBL5bR61v93H",
        "colab_type": "code",
        "colab": {}
      },
      "source": [
        "e g i a c d f h b j k\n",
        "\n",
        "e a d f h b j k c i g"
      ],
      "execution_count": null,
      "outputs": []
    },
    {
      "cell_type": "markdown",
      "metadata": {
        "id": "yxD-uyvJv9CD",
        "colab_type": "text"
      },
      "source": [
        ""
      ]
    },
    {
      "cell_type": "code",
      "metadata": {
        "id": "VNF5zEHkJOKs",
        "colab_type": "code",
        "colab": {}
      },
      "source": [
        ""
      ],
      "execution_count": null,
      "outputs": []
    },
    {
      "cell_type": "markdown",
      "metadata": {
        "id": "8NX1M_EIEEB-",
        "colab_type": "text"
      },
      "source": [
        "**DON'T FORGET TO DO PART (C) BELOW**\n",
        "\n",
        "c) What is the time complexity of `print_depth_first`? Provide justification for your answers."
      ]
    },
    {
      "cell_type": "markdown",
      "metadata": {
        "id": "wj2acu0_JIgH",
        "colab_type": "text"
      },
      "source": [
        "your answers here"
      ]
    },
    {
      "cell_type": "code",
      "metadata": {
        "id": "ALUY2q7Zx6ij",
        "colab_type": "code",
        "colab": {}
      },
      "source": [
        "[(1,2), (2,4), (9,8), (10,5), (-3,6)]\n",
        "\n",
        "---\n",
        "\n",
        "begin gradient descent with a guess: \n",
        "beta_0 = 1, beta_1 = 3\n",
        "\n",
        "^ using this guess, our approximation is y=1+3x\n",
        "actual values: [(1,2), (2,4)]\n",
        "approximations:[(1,4), (2,7)]\n",
        "f = error = (4-2)^2 + (7-4)^2 = 4 + 9 = 13\n",
        "\n",
        "---\n",
        "\n",
        "gradient of f, in the direction of beta_0\n",
        "\n",
        "forward approx: beta_0 = 1.1 --> y=1.1+3x\n",
        "approximations:[(1,4.1), (2,7.1)]\n",
        "error (f): (4.1-2)^2 + (7.1-4)^2 = 14.02\n",
        "\n",
        "backwards: beta_0 = 0.9 --> y=0.9+3x\n",
        "approximations:[(1,3.9), (2,6.9)]\n",
        "error (f): (3.9-2)^2 + (6.9-4)^2 = 12.02\n",
        "\n",
        "gradient of f, in the direction of beta_0, is\n",
        "[forward f - backwards f]/(2*0.1)\n",
        "[14.02 - 12.02]/.2 = 2/.2 = 10\n",
        "\n",
        "new beta_0 = old beta_0 - alpha * gradient\n",
        "           = 1 - 0.01 * 10\n",
        "           = 1 - 0.1\n",
        "           = 0.9\n",
        "\n",
        "\n",
        "\n"
      ],
      "execution_count": null,
      "outputs": []
    },
    {
      "cell_type": "markdown",
      "metadata": {
        "id": "qVvl0wAn38eH",
        "colab_type": "text"
      },
      "source": [
        "# Problem 2 (ML; 60 min)\n",
        "\n",
        "Create a function `calc_linear_approximation_coefficients(data)` that uses **2-dimensional gradient descent** to compute the line of best fit $\\hat{y}=\\beta_0 + \\beta_1 x$ for a dataset $\\left\\lbrace (x_1, y_1), (x_2, y_2), \\ldots, (x_n, y_n) \\right\\rbrace.$\n",
        "\n",
        "To do this, you will need to define the following `sum_squared_error` function that computes how inaccurate the approximation is:\n",
        "\n",
        "$$\\begin{align*}\n",
        "\\text{error} &= \\sum_{i=1}^n (\\text{approximate y}_i - \\text{actual y}_i)^2 \\\\\n",
        "&= \\sum_{i=1}^n (\\hat{y}_i - y_i)^2 \\\\\n",
        "&= \\sum_{i=1}^n (\\beta_0 + \\beta_1 x_i - y_i)^2 \\\\\n",
        "&= (\\beta_0 + \\beta_1 x_1 - y_1)^2 + (\\beta_0 + \\beta_1 x_2 - y_2)^2 + \\cdots + (\\beta_0 + \\beta_1 x_n - y_n)^2\n",
        "\\end{align*}$$\n",
        "\n",
        "The `sum_squared_error` function is really just a 2-variable function, with variables $\\beta_0$ and $\\beta_1.$ So, you can use your existing `gradient_descent` function to find the values of $\\beta_0$ and $\\beta_1$ that minimize the `sum_squared_error`.\n",
        "\n",
        "\n",
        "```\n",
        ">>> on_a_line_data = [(0,1), (1,3), (2,5), (3,7)]\n",
        ">>> calc_linear_approximation_coefficients(on_a_line_data)\n",
        "[1, 2]\n",
        ">>> not_on_a_line_data = [(1,4), (2,5), (3,7)]\n",
        ">>> calc_linear_approximation_coefficients(not_on_a_line_data)\n",
        "[2.3333333, 1.5]\n",
        "```\n"
      ]
    },
    {
      "cell_type": "code",
      "metadata": {
        "id": "wBNcTM3ulZ6V",
        "colab_type": "code",
        "colab": {}
      },
      "source": [
        ""
      ],
      "execution_count": null,
      "outputs": []
    },
    {
      "cell_type": "markdown",
      "metadata": {
        "id": "OS0-P5Hle9gp",
        "colab_type": "text"
      },
      "source": [
        "# Problem 3 (SWE; 60 min)\n",
        "\n",
        "Extend your game system.\n",
        "\n",
        "a) Implement a \"maintenance cost\" for each unit, that is equal to the unit's `armor` value plus its `defense technology` level. On each turn, the player must pay the maintenance cost associated with each unit. If a player is unable to pay the maintenance cost for the unit, then the unit is eliminated.\n",
        "\n",
        "* For example, a Cruiser has `armor + defense technology = 3`, so the player must pay `3 CP` per turn in order to keep the Cruiser.\n",
        "\n",
        "b) Modify your combat resolution. Instead of resolving each pair combat independently, you should repeatedly loop through all of the units (in the order of their attack class), so that every non-eliminated unit gets the chance to attack before any unit attacks twice.\n",
        "\n",
        " * Example: Suppose Player A's units (A1 and A2) and Player B's units (B1 and B2) all occupy the same space on the grid, and suppose the attack classes of the units mandate the order A1 > B1 > B2 > A2. Then \n",
        " \n",
        "   * A1 would go first, making a random choice to attack either B1 or B2.\n",
        "   * B1 (if still alive) would go second, attacking either A1 or A2\n",
        "   * B2 (if still alive) would go third, attacking either A1 (if still alive) or A2 (if still alive).\n",
        "   * A2 (if still alive) would go last, attacking either B1 (if still alive) or B2 (if still alive).\n",
        "   * The above sequence would repeat until only one team's units occupy the grid space.\n",
        "\n",
        " * Note: if two units have the same attack class, then just order them randomly in the attacking sequence."
      ]
    },
    {
      "cell_type": "code",
      "metadata": {
        "id": "HDrHm3iifBuD",
        "colab_type": "code",
        "colab": {}
      },
      "source": [
        ""
      ],
      "execution_count": null,
      "outputs": []
    }
  ]
}